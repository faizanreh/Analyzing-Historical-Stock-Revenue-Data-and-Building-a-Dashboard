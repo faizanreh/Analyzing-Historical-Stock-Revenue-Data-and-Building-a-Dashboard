{
  "nbformat": 4,
  "nbformat_minor": 0,
  "metadata": {
    "colab": {
      "provenance": [],
      "authorship_tag": "ABX9TyOb4DIDKSEXiTOjr8EhyptG",
      "include_colab_link": true
    },
    "kernelspec": {
      "name": "python3",
      "display_name": "Python 3"
    },
    "language_info": {
      "name": "python"
    }
  },
  "cells": [
    {
      "cell_type": "markdown",
      "metadata": {
        "id": "view-in-github",
        "colab_type": "text"
      },
      "source": [
        "<a href=\"https://colab.research.google.com/github/faizanreh/Analyzing-Historical-Stock-Revenue-Data-and-Building-a-Dashboard/blob/main/Capstone_Project.ipynb\" target=\"_parent\"><img src=\"https://colab.research.google.com/assets/colab-badge.svg\" alt=\"Open In Colab\"/></a>"
      ]
    },
    {
      "cell_type": "code",
      "execution_count": null,
      "metadata": {
        "id": "rbAEZzxG-uDQ"
      },
      "outputs": [],
      "source": [
        "#Importing Libraries\n",
        "import numpy as np\n",
        "import pandas as pd\n",
        "import matplotlib.pyplot as plt\n",
        "import seaborn as sns\n",
        "import matplotlib.cm as cm\n",
        "import matplotlib.colors as colors\n",
        "import requests\n",
        "import folium \n",
        "from sklearn.cluster import KMeans\n",
        "\n",
        "#Reading Dataset\n",
        "data = pd.read_csv('/content/data.csv',usecols=['Borough','Neighborhoods','Latitude','Longitude','Population','City','AverageIncome'])\n",
        "data.head()"
      ]
    },
    {
      "cell_type": "code",
      "source": [
        "b_population = data[['Borough', 'Neighborhoods', 'Population']]\n",
        "b_income = data[['Borough', 'Neighborhoods', 'AverageIncome']]\n",
        "\n",
        "# Save b_income dataframe to CSV file\n",
        "b_income.to_csv('income_dataset.csv', index=False)\n",
        "\n",
        "# Calculate mean latitude and longitude values\n",
        "b_latitude, b_longitude = data[['Latitude', 'Longitude']].mean()"
      ],
      "metadata": {
        "id": "W6NVLPiS-4CB"
      },
      "execution_count": null,
      "outputs": []
    },
    {
      "cell_type": "code",
      "source": [
        "unique_boroughs = data['Borough'].unique()\n",
        "colors = {borough: '#{:06x}'.format(np.random.randint(0, 0xFFFFFF))\n",
        "          for borough in unique_boroughs}\n",
        "colors"
      ],
      "metadata": {
        "id": "lay2idG8--BE"
      },
      "execution_count": null,
      "outputs": []
    },
    {
      "cell_type": "code",
      "source": [
        "# Create map centered on mean latitude and longitude\n",
        "map = folium.Map(location=[b_latitude, b_longitude], zoom_start=12, control_scale=True)\n",
        "\n",
        "# Iterate over the rows of the dataframe and add markers to the map\n",
        "for row in data.itertuples():\n",
        "    label_text = f\"{row.Borough} - {row.Neighborhoods}\"\n",
        "    label = folium.Popup(label_text, parse_html=True)\n",
        "    folium.CircleMarker(\n",
        "        [row.Latitude, row.Longitude],\n",
        "        tooltip=label_text,\n",
        "        radius=4,\n",
        "        popup=label,\n",
        "        color=colors[row.Borough],\n",
        "        fill=True,\n",
        "        fill_color=colors[row.Borough],\n",
        "        fill_opacity=0.7\n",
        "    ).add_to(map)\n",
        "\n",
        "map"
      ],
      "metadata": {
        "id": "NkBBJSIC_AmY"
      },
      "execution_count": null,
      "outputs": []
    },
    {
      "cell_type": "code",
      "source": [
        "CLIENT_ID = 'ZK40VO3EPO1ZY5C04PNYSMQH2ZFZ3U1TPL0QME3WEY553DMH'\n",
        "CLIENT_SECRET = 'RQBRNE2T3OTMYY4BBJ3YWLS0P2FK413O22MQV1QHBHAD04WG'\n",
        "VERSION = '20180606'\n",
        "LIMIT = 300\n",
        "\n",
        "def getNearbyVenues(names, boro, latitudes, longitudes, radius=500):\n",
        "    \n",
        "    venues_list=[]\n",
        "    for name, boro, lat, lng in zip(names, boro, latitudes, longitudes):\n",
        "        print(\"Fetching venues for : \",name)            \n",
        "        # create the API request URL\n",
        "        url = 'https://api.foursquare.com/v2/venues/explore?&client_id={}&client_secret={}&v={}&ll={},{}&radius={}&limit={}'.format(\n",
        "            CLIENT_ID, \n",
        "            CLIENT_SECRET, \n",
        "            VERSION, \n",
        "            lat, \n",
        "            lng, \n",
        "            radius, \n",
        "            LIMIT)\n",
        "            \n",
        "        # make the GET request\n",
        "        results = requests.get(url).json()[\"response\"]['groups'][0]['items']\n",
        "        \n",
        "        # return only relevant information for each nearby venue\n",
        "        venues_list.append([(\n",
        "            name, \n",
        "            boro,\n",
        "            lat, \n",
        "            lng, \n",
        "            v['venue']['name'], \n",
        "            v['venue']['location']['lat'], \n",
        "            v['venue']['location']['lng'],  \n",
        "            v['venue']['categories'][0]['name']) for v in results])\n",
        "\n",
        "    nearby_venues = pd.DataFrame([item for venue_list in venues_list for item in venue_list])\n",
        "    nearby_venues.columns = ['Neighborhood',\n",
        "                             'Borough',\n",
        "                             'Neighborhood Latitude', \n",
        "                             'Neighborhood Longitude', \n",
        "                             'Venue', \n",
        "                             'Venue Latitude', \n",
        "                             'Venue Longitude', \n",
        "                             'Venue Category']\n",
        "    \n",
        "    return(nearby_venues)\n",
        "\n",
        "bangalore_venues = getNearbyVenues(names=data['Neighborhoods'],latitudes=data['Latitude'],longitudes=data['Longitude'],boro=data['Borough'])\n",
        "\n",
        "# get the top 5 venue categories\n",
        "top_categories = bangalore_venues.groupby('Venue Category').count()['Neighborhood'].sort_values(ascending=False).head(5)"
      ],
      "metadata": {
        "id": "HpnRE9Mk_FjR"
      },
      "execution_count": null,
      "outputs": []
    },
    {
      "cell_type": "code",
      "source": [
        "#venues per neighborhood\n",
        "# Define function to plot individual venue counts for each neighborhood\n",
        "def plot_individual_venue_counts(df):\n",
        "    # Group by borough and neighborhood and count the number of venues\n",
        "    venue_count = (df.groupby(['Borough', 'Neighborhood'])\n",
        "                     .size()\n",
        "                     .reset_index(name='NumberOfVenues'))\n",
        "    \n",
        "    # Create bar plot\n",
        "    sns.set(rc={'figure.figsize': (11, 16)}) # Set plot size\n",
        "    plot = sns.barplot(x='Neighborhood', y='NumberOfVenues', data=venue_count)\n",
        "    plot.set_xticklabels(venue_count['Neighborhood'], rotation=90)\n",
        "    \n",
        "    return plot\n",
        "\n",
        "# Call function with your dataframe\n",
        "plot_individual_venue_counts(bangalore_venues)"
      ],
      "metadata": {
        "id": "YSQAAY5F_LwE"
      },
      "execution_count": null,
      "outputs": []
    },
    {
      "cell_type": "code",
      "source": [
        "# Get all venues for 'Whitefield' neighborhood\n",
        "whitefield_venues = bangalore_venues[bangalore_venues['Neighborhood'] == 'Whitefield']\n",
        "\n",
        "# Create one-hot encoding of venue categories\n",
        "bangalore_venues_onehot = pd.get_dummies(bangalore_venues[['Venue Category']])\n",
        "bangalore_venues_onehot['Neighborhood'] = bangalore_venues['Neighborhood']\n",
        "\n",
        "# Group venues by neighborhood and calculate the mean of each category\n",
        "bangalore_venues_grouped = bangalore_venues_onehot.groupby('Neighborhood').mean().reset_index()\n",
        "\n",
        "# Define function to return most common venues\n",
        "def return_most_common_venues(row, number_of_top_venues):\n",
        "    row_categories = row.iloc[1:]\n",
        "    row_categories_sorted = row_categories.sort_values(ascending=False)\n",
        "    return row_categories_sorted.index.values[0:number_of_top_venues]\n",
        "\n",
        "# Define number of top venues to consider\n",
        "number_of_top_venues = 10\n",
        "\n",
        "# Create columns for top venues\n",
        "indicators = ['st', 'nd', 'rd']\n",
        "columns = ['Neighborhood']\n",
        "for ind in np.arange(number_of_top_venues):\n",
        "    try:\n",
        "        columns.append('{}{} Most Common Venue'.format(ind+1, indicators[ind]))\n",
        "    except:\n",
        "        columns.append('{}th Most Common Venue'.format(ind+1))\n",
        "\n",
        "# Create new dataframe to store top venues\n",
        "neighborhoods_venues_sorted = pd.DataFrame(columns=columns)\n",
        "neighborhoods_venues_sorted['Neighborhood'] = bangalore_venues_grouped['Neighborhood']\n",
        "\n",
        "# Populate dataframe with most common venues for each neighborhood\n",
        "for ind in np.arange(bangalore_venues_grouped.shape[0]):\n",
        "    neighborhoods_venues_sorted.iloc[ind, 1:] = return_most_common_venues(bangalore_venues_grouped.iloc[ind, :], number_of_top_venues)"
      ],
      "metadata": {
        "id": "sx5Xq5i3_Q8X"
      },
      "execution_count": null,
      "outputs": []
    },
    {
      "cell_type": "code",
      "source": [
        "# Create an empty dictionary to store the SSE values for different numbers of clusters\n",
        "value_sse = {}\n",
        "for k in range(1,15):\n",
        "    kmeans = KMeans(n_clusters=k,random_state=0)\n",
        "    kmeans.fit(bangalore_venues_grouped.drop('Neighborhood',axis=1))\n",
        "    bangalore_venues_grouped['Cluster'] = kmeans.labels_\n",
        "    value_sse[k] = kmeans.inertia_\n",
        "\n",
        "plt.figure()\n",
        "plt.plot(list(value_sse.keys()), list(value_sse.values()))\n",
        "plt.xlabel(\"Number of cluster\")\n",
        "plt.ylabel(\"SSE\")\n",
        "plt.show()"
      ],
      "metadata": {
        "id": "PHQ1gwkV_jhH"
      },
      "execution_count": null,
      "outputs": []
    },
    {
      "cell_type": "code",
      "source": [
        "# Set the number of clusters\n",
        "num_clusters = 7\n",
        "\n",
        "# Create a KMeans model with the specified number of clusters\n",
        "kmeans = KMeans(n_clusters=num_clusters, random_state=0)\n",
        "\n",
        "# Fit the model on the data and assign cluster labels to each neighborhood\n",
        "kmeans.fit(bangalore_venues_grouped.drop('Neighborhood', axis=1))\n",
        "bangalore_venues_grouped['Cluster'] = kmeans.labels_\n",
        "\n",
        "# Merge the clustered data with the sorted venue data on the 'Neighborhood' column\n",
        "neighborhoods_venues_sorted = neighborhoods_venues_sorted.merge(bangalore_venues_grouped, on='Neighborhood')\n",
        "\n",
        "# Merge the clustered data with the original venue data on the 'Neighborhood' column\n",
        "neighborhoods_venues_sorted = neighborhoods_venues_sorted.merge(bangalore_venues, on='Neighborhood')"
      ],
      "metadata": {
        "colab": {
          "base_uri": "https://localhost:8080/"
        },
        "id": "jXBtOkJI_rT_",
        "outputId": "4c30cc7b-ab83-4f0d-be79-ca5f75e5773a"
      },
      "execution_count": null,
      "outputs": [
        {
          "output_type": "stream",
          "name": "stderr",
          "text": [
            "/usr/local/lib/python3.9/dist-packages/sklearn/cluster/_kmeans.py:870: FutureWarning: The default value of `n_init` will change from 10 to 'auto' in 1.4. Set the value of `n_init` explicitly to suppress the warning\n",
            "  warnings.warn(\n"
          ]
        }
      ]
    },
    {
      "cell_type": "code",
      "source": [
        "#Normalize population and income\n",
        "b_population['Normalized_population'] = b_population['Population']/b_population['Population'].max(axis=0)\n",
        "b_income['Normalized_income'] = b_income['AverageIncome']/b_income['AverageIncome'].max(axis=0)\n",
        "bangalore_veg = bangalore_venues_onehot.groupby(['Neighborhood']).sum().reset_index()\n",
        "bangalore_veg = bangalore_veg[['Neighborhood','Venue Category_Vegetarian / Vegan Restaurant']]\n",
        "bangalore_veg.rename(columns={'Venue Category_Vegetarian / Vegan Restaurant':'NumberOfVegRestaurants'},inplace=True)\n",
        "bangalore_veg['NumberOfNonVeganrestaurants'] = 1-(bangalore_veg['NumberOfVegRestaurants']/bangalore_veg['NumberOfVegRestaurants'].max(axis=0))\n",
        "bangalore_veg.rename(columns={'Neighborhood':'Neighborhoods'},inplace=True)"
      ],
      "metadata": {
        "id": "CQ9QL8bF_5jo"
      },
      "execution_count": null,
      "outputs": []
    },
    {
      "cell_type": "code",
      "source": [
        "# Building a target neighborhood\n",
        "target_neighborhood = 'Whitefield'\n",
        "target_cluster = neighborhoods_venues_sorted.loc[neighborhoods_venues_sorted['Neighborhood'] == target_neighborhood, 'Cluster'].values[0]\n",
        "\n",
        "possible_neighborhoods = neighborhoods_venues_sorted[neighborhoods_venues_sorted['Cluster'] == target_cluster].copy()\n",
        "possible_neighborhoods.rename(columns={'Neighborhood': 'Neighborhoods'}, inplace=True)\n",
        "\n",
        "n_possible_neighborhoods = possible_neighborhoods.shape[0]\n",
        "print(f\"There are {n_possible_neighborhoods} neighborhoods which have similar characteristics to {target_neighborhood}.\")"
      ],
      "metadata": {
        "colab": {
          "base_uri": "https://localhost:8080/"
        },
        "id": "2zwIuvAe_-vh",
        "outputId": "c3cc2e32-7f5f-46c1-8cd4-79b4bdf50875"
      },
      "execution_count": null,
      "outputs": [
        {
          "output_type": "stream",
          "name": "stdout",
          "text": [
            "There are 212 neighborhoods which have similar characteristics to Whitefield.\n"
          ]
        }
      ]
    },
    {
      "cell_type": "code",
      "source": [
        "#Building a target neighborhood \n",
        "target_cluster_dataframe = neighborhoods_venues_sorted.loc[neighborhoods_venues_sorted['Neighborhood']=='Whitefield']\n",
        "target_cluster = target_cluster_dataframe.iloc[0].at['Cluster']\n",
        "possible_neighborhoods = neighborhoods_venues_sorted[neighborhoods_venues_sorted['Cluster']==target_cluster]\n",
        "possible_neighborhoods.rename(columns={'Neighborhood':'Neighborhoods'},inplace=True)\n",
        "possible_neighborhoods = possible_neighborhoods.merge(b_population[['Neighborhoods','Population','Normalized_population']],on='Neighborhoods')\n",
        "possible_neighborhoods = possible_neighborhoods.merge(b_income[['Neighborhoods','AverageIncome','Normalized_income']],on='Neighborhoods')\n",
        "possible_neighborhoods = possible_neighborhoods.merge(bangalore_veg[['Neighborhoods','NumberOfVegRestaurants','NumberOfNonVeganrestaurants']],on='Neighborhoods')"
      ],
      "metadata": {
        "id": "p6BTSH4uACVq"
      },
      "execution_count": null,
      "outputs": []
    },
    {
      "cell_type": "code",
      "source": [
        "possible_neighborhoods['Ranking'] = possible_neighborhoods['Normalized_population'] * 0.5 + possible_neighborhoods['Normalized_income'] * 0.35 + possible_neighborhoods['NumberOfNonVeganrestaurants'] * 0.1\n",
        "recommended_neighborhoods = possible_neighborhoods.sort_values(by='Ranking',ascending=False)\n",
        "recommended_neighborhoods.reset_index(inplace=True, drop=True)"
      ],
      "metadata": {
        "id": "sH-7k86KAHw5"
      },
      "execution_count": null,
      "outputs": []
    },
    {
      "cell_type": "code",
      "source": [
        "top3 = recommended_neighborhoods.groupby(['Neighborhoods','1st Most Common Venue','2nd Most Common Venue','3rd Most Common Venue'])['Ranking'].unique()\n",
        "top3_data = pd.DataFrame(top3).reset_index()\n",
        "top3_data.head(3)"
      ],
      "metadata": {
        "colab": {
          "base_uri": "https://localhost:8080/",
          "height": 222
        },
        "id": "kzl5e3uhAKAB",
        "outputId": "2f67f10e-33a2-4b94-db1a-357e3e140e81"
      },
      "execution_count": null,
      "outputs": [
        {
          "output_type": "execute_result",
          "data": {
            "text/plain": [
              "       Neighborhoods                  1st Most Common Venue  \\\n",
              "0       Banashankari                    Venue Category_Café   \n",
              "1  Basaveshwaranagar    Venue Category_Fast Food Restaurant   \n",
              "2    Electronic City  Venue Category_Furniture / Home Store   \n",
              "\n",
              "              2nd Most Common Venue          3rd Most Common Venue  \\\n",
              "0     Venue Category_Clothing Store     Venue Category_Pizza Place   \n",
              "1  Venue Category_Indian Restaurant  Venue Category_Ice Cream Shop   \n",
              "2           Venue Category_Bus Stop    Venue Category_Outlet Store   \n",
              "\n",
              "                Ranking  \n",
              "0  [0.8234029969298623]  \n",
              "1  [0.6426377807651089]  \n",
              "2  [0.5423513638776338]  "
            ],
            "text/html": [
              "\n",
              "  <div id=\"df-1252daa2-7ea4-4614-bad4-9e465eb256f0\">\n",
              "    <div class=\"colab-df-container\">\n",
              "      <div>\n",
              "<style scoped>\n",
              "    .dataframe tbody tr th:only-of-type {\n",
              "        vertical-align: middle;\n",
              "    }\n",
              "\n",
              "    .dataframe tbody tr th {\n",
              "        vertical-align: top;\n",
              "    }\n",
              "\n",
              "    .dataframe thead th {\n",
              "        text-align: right;\n",
              "    }\n",
              "</style>\n",
              "<table border=\"1\" class=\"dataframe\">\n",
              "  <thead>\n",
              "    <tr style=\"text-align: right;\">\n",
              "      <th></th>\n",
              "      <th>Neighborhoods</th>\n",
              "      <th>1st Most Common Venue</th>\n",
              "      <th>2nd Most Common Venue</th>\n",
              "      <th>3rd Most Common Venue</th>\n",
              "      <th>Ranking</th>\n",
              "    </tr>\n",
              "  </thead>\n",
              "  <tbody>\n",
              "    <tr>\n",
              "      <th>0</th>\n",
              "      <td>Banashankari</td>\n",
              "      <td>Venue Category_Café</td>\n",
              "      <td>Venue Category_Clothing Store</td>\n",
              "      <td>Venue Category_Pizza Place</td>\n",
              "      <td>[0.8234029969298623]</td>\n",
              "    </tr>\n",
              "    <tr>\n",
              "      <th>1</th>\n",
              "      <td>Basaveshwaranagar</td>\n",
              "      <td>Venue Category_Fast Food Restaurant</td>\n",
              "      <td>Venue Category_Indian Restaurant</td>\n",
              "      <td>Venue Category_Ice Cream Shop</td>\n",
              "      <td>[0.6426377807651089]</td>\n",
              "    </tr>\n",
              "    <tr>\n",
              "      <th>2</th>\n",
              "      <td>Electronic City</td>\n",
              "      <td>Venue Category_Furniture / Home Store</td>\n",
              "      <td>Venue Category_Bus Stop</td>\n",
              "      <td>Venue Category_Outlet Store</td>\n",
              "      <td>[0.5423513638776338]</td>\n",
              "    </tr>\n",
              "  </tbody>\n",
              "</table>\n",
              "</div>\n",
              "      <button class=\"colab-df-convert\" onclick=\"convertToInteractive('df-1252daa2-7ea4-4614-bad4-9e465eb256f0')\"\n",
              "              title=\"Convert this dataframe to an interactive table.\"\n",
              "              style=\"display:none;\">\n",
              "        \n",
              "  <svg xmlns=\"http://www.w3.org/2000/svg\" height=\"24px\"viewBox=\"0 0 24 24\"\n",
              "       width=\"24px\">\n",
              "    <path d=\"M0 0h24v24H0V0z\" fill=\"none\"/>\n",
              "    <path d=\"M18.56 5.44l.94 2.06.94-2.06 2.06-.94-2.06-.94-.94-2.06-.94 2.06-2.06.94zm-11 1L8.5 8.5l.94-2.06 2.06-.94-2.06-.94L8.5 2.5l-.94 2.06-2.06.94zm10 10l.94 2.06.94-2.06 2.06-.94-2.06-.94-.94-2.06-.94 2.06-2.06.94z\"/><path d=\"M17.41 7.96l-1.37-1.37c-.4-.4-.92-.59-1.43-.59-.52 0-1.04.2-1.43.59L10.3 9.45l-7.72 7.72c-.78.78-.78 2.05 0 2.83L4 21.41c.39.39.9.59 1.41.59.51 0 1.02-.2 1.41-.59l7.78-7.78 2.81-2.81c.8-.78.8-2.07 0-2.86zM5.41 20L4 18.59l7.72-7.72 1.47 1.35L5.41 20z\"/>\n",
              "  </svg>\n",
              "      </button>\n",
              "      \n",
              "  <style>\n",
              "    .colab-df-container {\n",
              "      display:flex;\n",
              "      flex-wrap:wrap;\n",
              "      gap: 12px;\n",
              "    }\n",
              "\n",
              "    .colab-df-convert {\n",
              "      background-color: #E8F0FE;\n",
              "      border: none;\n",
              "      border-radius: 50%;\n",
              "      cursor: pointer;\n",
              "      display: none;\n",
              "      fill: #1967D2;\n",
              "      height: 32px;\n",
              "      padding: 0 0 0 0;\n",
              "      width: 32px;\n",
              "    }\n",
              "\n",
              "    .colab-df-convert:hover {\n",
              "      background-color: #E2EBFA;\n",
              "      box-shadow: 0px 1px 2px rgba(60, 64, 67, 0.3), 0px 1px 3px 1px rgba(60, 64, 67, 0.15);\n",
              "      fill: #174EA6;\n",
              "    }\n",
              "\n",
              "    [theme=dark] .colab-df-convert {\n",
              "      background-color: #3B4455;\n",
              "      fill: #D2E3FC;\n",
              "    }\n",
              "\n",
              "    [theme=dark] .colab-df-convert:hover {\n",
              "      background-color: #434B5C;\n",
              "      box-shadow: 0px 1px 3px 1px rgba(0, 0, 0, 0.15);\n",
              "      filter: drop-shadow(0px 1px 2px rgba(0, 0, 0, 0.3));\n",
              "      fill: #FFFFFF;\n",
              "    }\n",
              "  </style>\n",
              "\n",
              "      <script>\n",
              "        const buttonEl =\n",
              "          document.querySelector('#df-1252daa2-7ea4-4614-bad4-9e465eb256f0 button.colab-df-convert');\n",
              "        buttonEl.style.display =\n",
              "          google.colab.kernel.accessAllowed ? 'block' : 'none';\n",
              "\n",
              "        async function convertToInteractive(key) {\n",
              "          const element = document.querySelector('#df-1252daa2-7ea4-4614-bad4-9e465eb256f0');\n",
              "          const dataTable =\n",
              "            await google.colab.kernel.invokeFunction('convertToInteractive',\n",
              "                                                     [key], {});\n",
              "          if (!dataTable) return;\n",
              "\n",
              "          const docLinkHtml = 'Like what you see? Visit the ' +\n",
              "            '<a target=\"_blank\" href=https://colab.research.google.com/notebooks/data_table.ipynb>data table notebook</a>'\n",
              "            + ' to learn more about interactive tables.';\n",
              "          element.innerHTML = '';\n",
              "          dataTable['output_type'] = 'display_data';\n",
              "          await google.colab.output.renderOutput(dataTable, element);\n",
              "          const docLink = document.createElement('div');\n",
              "          docLink.innerHTML = docLinkHtml;\n",
              "          element.appendChild(docLink);\n",
              "        }\n",
              "      </script>\n",
              "    </div>\n",
              "  </div>\n",
              "  "
            ]
          },
          "metadata": {},
          "execution_count": 17
        }
      ]
    },
    {
      "cell_type": "code",
      "source": [],
      "metadata": {
        "id": "xBYqSNdJqN_A"
      },
      "execution_count": null,
      "outputs": []
    }
  ]
}